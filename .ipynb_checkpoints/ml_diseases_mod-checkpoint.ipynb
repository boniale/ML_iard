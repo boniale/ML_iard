{
 "cells": [
  {
   "cell_type": "markdown",
   "metadata": {},
   "source": [
    "# Identifying Age-Related Conditions Using Machine Learning Models\n",
    "## Author: Boni M. Ale, MD, MSc, MPH\n",
    "### Date: 08 June 2023"
   ]
  },
  {
   "cell_type": "markdown",
   "metadata": {},
   "source": [
    "# 1. Introduction"
   ]
  },
  {
   "cell_type": "markdown",
   "metadata": {},
   "source": [
    "To determine if someone has these medical conditions requires a long and intrusive process to collect information from patients. With predictive models, we can shorten this process and keep patient details private by collecting key characteristics relative to the conditions, then encoding these characteristics.\n",
    "\n",
    "In this project, I will use Machine Learning to detect conditions with measurements of anonymous characteristics. Therefore the general objective of this analysis is to predict if a person has any of three medical conditions. In order to predict if the person has one or more of any of the three medical conditions (Class 1), or none of the three medical conditions (Class 0), I will create a model trained on anonymous measurements of health characteristics.\n",
    "\n"
   ]
  },
  {
   "cell_type": "markdown",
   "metadata": {},
   "source": [
    "**Load Libraries**"
   ]
  },
  {
   "cell_type": "code",
   "execution_count": null,
   "metadata": {},
   "outputs": [],
   "source": [
    "import pandas as pd\n",
    "import numpy as np\n",
    "import matplotlib.pyplot as plt\n",
    "import plotly.express as px\n",
    "import seaborn as sns"
   ]
  },
  {
   "cell_type": "markdown",
   "metadata": {},
   "source": [
    "**Load Datasets**"
   ]
  },
  {
   "cell_type": "code",
   "execution_count": null,
   "metadata": {},
   "outputs": [],
   "source": [
    "train_raw = pd.read_csv('/Users/boniale/Desktop/Identifying-Age-Related-Conditions-using-ML-models/data/train.csv')\n",
    "test = pd.read_csv('/Users/boniale/Desktop/Identifying-Age-Related-Conditions-using-ML-models/data/test.csv')\n",
    "greeks_raw = pd.read_csv('/Users/boniale/Desktop/Identifying-Age-Related-Conditions-using-ML-models/data/greeks.csv')\n",
    "sample_submission = pd.read_csv('/Users/boniale/Desktop/Identifying-Age-Related-Conditions-using-ML-models/data/sample_submission.csv')"
   ]
  },
  {
   "cell_type": "markdown",
   "metadata": {},
   "source": [
    "# 2. Exploratory Data Analysis"
   ]
  },
  {
   "cell_type": "markdown",
   "metadata": {},
   "source": [
    "## 2.1. Data Description"
   ]
  },
  {
   "cell_type": "code",
   "execution_count": null,
   "metadata": {},
   "outputs": [],
   "source": [
    "print(\"Raw Train Data Set's size: \", train_raw.shape)\n",
    "\n",
    "print(\"Raw Greeks Data Set's size: \", greeks_raw.shape)\n",
    "\n",
    "#separate variables into new data frames\n",
    "numeric_data = train_raw.select_dtypes(include=[np.number])\n",
    "cat_data = train_raw.select_dtypes(exclude=[np.number])\n",
    "cat_data = cat_data.drop(['Id'], axis=1)\n",
    "print (\"There are {} numeric and {} categorical columns in train raw data\".format(numeric_data.shape[1],cat_data.shape[1]))"
   ]
  },
  {
   "cell_type": "markdown",
   "metadata": {},
   "source": [
    "These 56 numeric variables include our target which is \"if the person has one or more of any of the three medical conditions (Class 1)\" or \"none of the three medical conditions (Class 0)\". This means that Class is actually a categorical variable"
   ]
  },
  {
   "cell_type": "markdown",
   "metadata": {},
   "source": [
    "## 2.2. Numerical Variables Exploration"
   ]
  },
  {
   "cell_type": "code",
   "execution_count": null,
   "metadata": {},
   "outputs": [],
   "source": [
    "numeric_data.head(5)"
   ]
  },
  {
   "cell_type": "markdown",
   "metadata": {},
   "source": [
    "These above 56 numeric variables include our target which is \"if the person has one or more of any of the three medical conditions (Class 1)\" or \"none of the three medical conditions (Class 0)\". This means that Class is actually a categorical variable. Therefore, we will remove our target from the set of numeric variable and look at the distrubition of all numerical variables. "
   ]
  },
  {
   "cell_type": "code",
   "execution_count": null,
   "metadata": {},
   "outputs": [],
   "source": [
    "num = [f for f in train_raw.columns if train_raw.dtypes[f] != 'object']\n",
    "num.remove(\"Class\")\n",
    "nd = pd.melt(train_raw, value_vars = num)\n",
    "barplot_train = sns.FacetGrid (nd, col='variable',\n",
    "                    col_wrap=5, \n",
    "                    sharex=False, \n",
    "                              sharey = False\n",
    "                   )\n",
    "barplot_train = barplot_train.map(sns.histplot, 'value')\n",
    "plt.show(\"barplot_train\")"
   ]
  },
  {
   "cell_type": "markdown",
   "metadata": {},
   "source": [
    "We can see that several variables are not normally distributed. Let's focus on our target and see how it behave. "
   ]
  },
  {
   "cell_type": "markdown",
   "metadata": {},
   "source": [
    "## 2.3. Target Distribution"
   ]
  },
  {
   "cell_type": "code",
   "execution_count": null,
   "metadata": {
    "scrolled": true
   },
   "outputs": [],
   "source": [
    "fig_targ = px.pie(train_raw, names=train_raw['Class'].map({1: 'has medical conditions', 0: 'no medical conditions'}), \n",
    "             height=400, width=600, \n",
    "             hole=0.7, \n",
    "             title='Target class Distribution',\n",
    "                   color_discrete_sequence=['#4c78a8', '#72b7b2'])\n",
    "fig_targ.update_traces(hovertemplate=None, textposition='outside', textinfo='percent+label', rotation=0)\n",
    "fig_targ.update_layout(margin=dict(t=100, b=30, l=0, r=0), showlegend=False,\n",
    "                        plot_bgcolor='#fafafa', paper_bgcolor='#fafafa',\n",
    "                        title_font=dict(size=20, color='#555', family=\"Lato, sans-serif\"),\n",
    "                        font=dict(size=17, color='#8a8d93'),\n",
    "                        hoverlabel=dict(bgcolor=\"#444\", font_size=13, font_family=\"Lato, sans-serif\"))\n",
    "fig_targ.show()"
   ]
  },
  {
   "cell_type": "code",
   "execution_count": null,
   "metadata": {},
   "outputs": [],
   "source": []
  }
 ],
 "metadata": {
  "kernelspec": {
   "display_name": "Python 3 (ipykernel)",
   "language": "python",
   "name": "python3"
  },
  "language_info": {
   "codemirror_mode": {
    "name": "ipython",
    "version": 3
   },
   "file_extension": ".py",
   "mimetype": "text/x-python",
   "name": "python",
   "nbconvert_exporter": "python",
   "pygments_lexer": "ipython3",
   "version": "3.10.9"
  }
 },
 "nbformat": 4,
 "nbformat_minor": 2
}
